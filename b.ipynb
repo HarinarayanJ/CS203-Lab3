{
 "cells": [
  {
   "cell_type": "code",
   "execution_count": 18,
   "metadata": {},
   "outputs": [],
   "source": [
    "import pandas as pd\n",
    "from statsmodels.stats.inter_rater import fleiss_kappa\n",
    "import numpy as np"
   ]
  },
  {
   "cell_type": "code",
   "execution_count": 40,
   "metadata": {},
   "outputs": [],
   "source": [
    "def data_process(a1, a2, a3):\n",
    "    A_1 = []\n",
    "    for i in a1:\n",
    "        if i == \"No Trucks\":\n",
    "            A_1.append(0)\n",
    "        else:\n",
    "            A_1.append(1)\n",
    "\n",
    "    A_2 = []\n",
    "    for i in a2:\n",
    "        if i == \"No Trucks\":\n",
    "            A_2.append(0)\n",
    "        else:\n",
    "            A_2.append(1)\n",
    "\n",
    "    A_3 = []\n",
    "    for i in a3:\n",
    "        if i == \"No Trucks\":\n",
    "            A_3.append(0)\n",
    "        else:\n",
    "            A_3.append(1)\n",
    "\n",
    "    d = []\n",
    "    for i in range(len(A_1)):\n",
    "        t = 0\n",
    "        if A_1[i] == 1:\n",
    "            t += 1\n",
    "        if A_2[i] == 1:\n",
    "            t += 1\n",
    "        if A_3[i] == 1:\n",
    "            t += 1\n",
    "        d.append([t, 3-t ])\n",
    "       \n",
    "\n",
    "    return d\n",
    "\n",
    "    "
   ]
  },
  {
   "cell_type": "code",
   "execution_count": 47,
   "metadata": {},
   "outputs": [
    {
     "name": "stdout",
     "output_type": "stream",
     "text": [
      "0.8628571428571427\n"
     ]
    }
   ],
   "source": [
    "a1 = pd.read_csv(\"A1_CV.csv\")\n",
    "a2 = pd.read_csv(\"A2_CV.csv\")\n",
    "a3 = pd.read_csv(\"A3_CV.csv\")\n",
    "\n",
    "\n",
    "d = data_process(a1[\"choice\"].to_list(), a2[\"choice\"].to_list(), a3[\"choice\"].to_list())\n",
    "\n",
    "\n",
    "print(fleiss_kappa(d, method='fleiss'))"
   ]
  },
  {
   "cell_type": "code",
   "execution_count": null,
   "metadata": {},
   "outputs": [],
   "source": []
  }
 ],
 "metadata": {
  "kernelspec": {
   "display_name": "Python 3",
   "language": "python",
   "name": "python3"
  },
  "language_info": {
   "codemirror_mode": {
    "name": "ipython",
    "version": 3
   },
   "file_extension": ".py",
   "mimetype": "text/x-python",
   "name": "python",
   "nbconvert_exporter": "python",
   "pygments_lexer": "ipython3",
   "version": "3.13.1"
  }
 },
 "nbformat": 4,
 "nbformat_minor": 2
}
